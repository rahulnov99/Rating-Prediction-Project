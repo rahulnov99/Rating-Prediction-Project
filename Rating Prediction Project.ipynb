{
 "cells": [
  {
   "cell_type": "markdown",
   "metadata": {},
   "source": [
    "# Rating Prediction Project"
   ]
  },
  {
   "cell_type": "code",
   "execution_count": 11,
   "metadata": {},
   "outputs": [],
   "source": [
    "import pandas as pd\n",
    "import numpy as np\n",
    "import seaborn as sns\n",
    "import matplotlib.pyplot as plt\n",
    "%matplotlib inline\n",
    "#from wordcloud import WordCloud\n",
    "\n",
    "import warnings\n",
    "warnings.simplefilter(\"ignore\")\n",
    "warnings.filterwarnings(\"ignore\")\n",
    "import joblib\n",
    "\n",
    "# Importing nltk libraries\n",
    "import re\n",
    "import string\n",
    "import missingno\n",
    "import pandas_profiling\n",
    "import nltk\n",
    "from nltk.corpus import stopwords\n",
    "nltk.download('stopwords', quiet=True)\n",
    "nltk.download('punkt', quiet=True)\n",
    "nltk.download('wordnet', quiet=True)\n",
    "nltk.download('averaged_perceptron_tagger', quiet=True)\n",
    "from nltk import FreqDist\n",
    "from nltk.tokenize import word_tokenize\n",
    "from nltk.stem.wordnet import WordNetLemmatizer\n",
    "from nltk.corpus import wordnet\n",
    "from nltk import FreqDist\n",
    "\n",
    "from scipy import stats\n",
    "from scipy.stats import zscore\n",
    "from scipy.sparse import hstack\n",
    "import scikitplot as skplt\n",
    "from sklearn.feature_extraction.text import TfidfVectorizer\n",
    "from sklearn.preprocessing import StandardScaler\n",
    "from sklearn.model_selection import train_test_split, GridSearchCV \n",
    "from sklearn.model_selection import cross_val_score\n",
    "from sklearn.metrics import f1_score, precision_score, confusion_matrix, accuracy_score, classification_report\n",
    "\n",
    "from sklearn.svm import LinearSVC\n",
    "from sklearn.naive_bayes import MultinomialNB, GaussianNB, BernoulliNB\n",
    "from sklearn.linear_model import LogisticRegression\n",
    "from lightgbm import LGBMClassifier\n",
    "from sklearn.linear_model import SGDClassifier\n",
    "from sklearn.ensemble import RandomForestClassifier, ExtraTreesClassifier\n",
    "from sklearn.tree import DecisionTreeClassifier\n",
    "from xgboost.sklearn import XGBClassifier"
   ]
  },
  {
   "cell_type": "code",
   "execution_count": 27,
   "metadata": {},
   "outputs": [
    {
     "data": {
      "text/html": [
       "<div>\n",
       "<style scoped>\n",
       "    .dataframe tbody tr th:only-of-type {\n",
       "        vertical-align: middle;\n",
       "    }\n",
       "\n",
       "    .dataframe tbody tr th {\n",
       "        vertical-align: top;\n",
       "    }\n",
       "\n",
       "    .dataframe thead th {\n",
       "        text-align: right;\n",
       "    }\n",
       "</style>\n",
       "<table border=\"1\" class=\"dataframe\">\n",
       "  <thead>\n",
       "    <tr style=\"text-align: right;\">\n",
       "      <th></th>\n",
       "      <th>Unnamed: 0</th>\n",
       "      <th>Review_title</th>\n",
       "      <th>Review_text</th>\n",
       "      <th>Ratings</th>\n",
       "    </tr>\n",
       "  </thead>\n",
       "  <tbody>\n",
       "    <tr>\n",
       "      <th>0</th>\n",
       "      <td>0</td>\n",
       "      <td>Suitable for School kids</td>\n",
       "      <td>\\r\\n  If you are a College student or a profes...</td>\n",
       "      <td>2.0 out of 5 stars</td>\n",
       "    </tr>\n",
       "    <tr>\n",
       "      <th>1</th>\n",
       "      <td>1</td>\n",
       "      <td>Misrepresentation on MS Office 2019 license - ...</td>\n",
       "      <td>\\r\\n  Update after one month usage - MS Office...</td>\n",
       "      <td>2.0 out of 5 stars</td>\n",
       "    </tr>\n",
       "    <tr>\n",
       "      <th>2</th>\n",
       "      <td>2</td>\n",
       "      <td>The sold me renewed laptop</td>\n",
       "      <td>\\r\\n  It’s look like renewed laptop because la...</td>\n",
       "      <td>2.0 out of 5 stars</td>\n",
       "    </tr>\n",
       "    <tr>\n",
       "      <th>3</th>\n",
       "      <td>3</td>\n",
       "      <td>Amazon dupes with specification/ battery sucks</td>\n",
       "      <td>\\r\\n  &amp;nbsp;I had seen the specifications and ...</td>\n",
       "      <td>2.0 out of 5 stars</td>\n",
       "    </tr>\n",
       "    <tr>\n",
       "      <th>4</th>\n",
       "      <td>4</td>\n",
       "      <td>Display back light issue</td>\n",
       "      <td>\\r\\n  Display gone with 2 months.. But anyway ...</td>\n",
       "      <td>2.0 out of 5 stars</td>\n",
       "    </tr>\n",
       "    <tr>\n",
       "      <th>...</th>\n",
       "      <td>...</td>\n",
       "      <td>...</td>\n",
       "      <td>...</td>\n",
       "      <td>...</td>\n",
       "    </tr>\n",
       "    <tr>\n",
       "      <th>77545</th>\n",
       "      <td>77545</td>\n",
       "      <td>Nice product</td>\n",
       "      <td>good product</td>\n",
       "      <td>4</td>\n",
       "    </tr>\n",
       "    <tr>\n",
       "      <th>77546</th>\n",
       "      <td>77546</td>\n",
       "      <td>Awesome</td>\n",
       "      <td>Very good as expected and happy with the purchase</td>\n",
       "      <td>5</td>\n",
       "    </tr>\n",
       "    <tr>\n",
       "      <th>77547</th>\n",
       "      <td>77547</td>\n",
       "      <td>Awesome</td>\n",
       "      <td>I love it! No complaint!</td>\n",
       "      <td>5</td>\n",
       "    </tr>\n",
       "    <tr>\n",
       "      <th>77548</th>\n",
       "      <td>77548</td>\n",
       "      <td>Nice product</td>\n",
       "      <td>good product</td>\n",
       "      <td>4</td>\n",
       "    </tr>\n",
       "    <tr>\n",
       "      <th>77549</th>\n",
       "      <td>77549</td>\n",
       "      <td>Awesome</td>\n",
       "      <td>Very good as expected and happy with the purchase</td>\n",
       "      <td>5</td>\n",
       "    </tr>\n",
       "  </tbody>\n",
       "</table>\n",
       "<p>77550 rows × 4 columns</p>\n",
       "</div>"
      ],
      "text/plain": [
       "       Unnamed: 0                                       Review_title  \\\n",
       "0               0                           Suitable for School kids   \n",
       "1               1  Misrepresentation on MS Office 2019 license - ...   \n",
       "2               2                         The sold me renewed laptop   \n",
       "3               3     Amazon dupes with specification/ battery sucks   \n",
       "4               4                           Display back light issue   \n",
       "...           ...                                                ...   \n",
       "77545       77545                                       Nice product   \n",
       "77546       77546                                            Awesome   \n",
       "77547       77547                                            Awesome   \n",
       "77548       77548                                       Nice product   \n",
       "77549       77549                                            Awesome   \n",
       "\n",
       "                                             Review_text             Ratings  \n",
       "0      \\r\\n  If you are a College student or a profes...  2.0 out of 5 stars  \n",
       "1      \\r\\n  Update after one month usage - MS Office...  2.0 out of 5 stars  \n",
       "2      \\r\\n  It’s look like renewed laptop because la...  2.0 out of 5 stars  \n",
       "3      \\r\\n  &nbsp;I had seen the specifications and ...  2.0 out of 5 stars  \n",
       "4      \\r\\n  Display gone with 2 months.. But anyway ...  2.0 out of 5 stars  \n",
       "...                                                  ...                 ...  \n",
       "77545                                       good product                   4  \n",
       "77546  Very good as expected and happy with the purchase                   5  \n",
       "77547                           I love it! No complaint!                   5  \n",
       "77548                                       good product                   4  \n",
       "77549  Very good as expected and happy with the purchase                   5  \n",
       "\n",
       "[77550 rows x 4 columns]"
      ]
     },
     "execution_count": 27,
     "metadata": {},
     "output_type": "execute_result"
    }
   ],
   "source": [
    "df = pd.read_csv(\"rating1.csv\")\n",
    "df # checking the first five and last five rows of our dataset"
   ]
  },
  {
   "cell_type": "code",
   "execution_count": 28,
   "metadata": {},
   "outputs": [
    {
     "name": "stdout",
     "output_type": "stream",
     "text": [
      "We have 77550 Rows and 3 Columns in our dataframe\n"
     ]
    },
    {
     "data": {
      "text/html": [
       "<div>\n",
       "<style scoped>\n",
       "    .dataframe tbody tr th:only-of-type {\n",
       "        vertical-align: middle;\n",
       "    }\n",
       "\n",
       "    .dataframe tbody tr th {\n",
       "        vertical-align: top;\n",
       "    }\n",
       "\n",
       "    .dataframe thead th {\n",
       "        text-align: right;\n",
       "    }\n",
       "</style>\n",
       "<table border=\"1\" class=\"dataframe\">\n",
       "  <thead>\n",
       "    <tr style=\"text-align: right;\">\n",
       "      <th></th>\n",
       "      <th>Review_title</th>\n",
       "      <th>Review_text</th>\n",
       "      <th>Ratings</th>\n",
       "    </tr>\n",
       "  </thead>\n",
       "  <tbody>\n",
       "    <tr>\n",
       "      <th>0</th>\n",
       "      <td>Suitable for School kids</td>\n",
       "      <td>\\r\\n  If you are a College student or a profes...</td>\n",
       "      <td>2.0 out of 5 stars</td>\n",
       "    </tr>\n",
       "    <tr>\n",
       "      <th>1</th>\n",
       "      <td>Misrepresentation on MS Office 2019 license - ...</td>\n",
       "      <td>\\r\\n  Update after one month usage - MS Office...</td>\n",
       "      <td>2.0 out of 5 stars</td>\n",
       "    </tr>\n",
       "    <tr>\n",
       "      <th>2</th>\n",
       "      <td>The sold me renewed laptop</td>\n",
       "      <td>\\r\\n  It’s look like renewed laptop because la...</td>\n",
       "      <td>2.0 out of 5 stars</td>\n",
       "    </tr>\n",
       "    <tr>\n",
       "      <th>3</th>\n",
       "      <td>Amazon dupes with specification/ battery sucks</td>\n",
       "      <td>\\r\\n  &amp;nbsp;I had seen the specifications and ...</td>\n",
       "      <td>2.0 out of 5 stars</td>\n",
       "    </tr>\n",
       "    <tr>\n",
       "      <th>4</th>\n",
       "      <td>Display back light issue</td>\n",
       "      <td>\\r\\n  Display gone with 2 months.. But anyway ...</td>\n",
       "      <td>2.0 out of 5 stars</td>\n",
       "    </tr>\n",
       "    <tr>\n",
       "      <th>5</th>\n",
       "      <td>Battery life</td>\n",
       "      <td>\\r\\n  Battery backup give only one hour . What...</td>\n",
       "      <td>2.0 out of 5 stars</td>\n",
       "    </tr>\n",
       "    <tr>\n",
       "      <th>6</th>\n",
       "      <td>No for professional works</td>\n",
       "      <td>\\r\\n  Blue screen while power on the linux Ope...</td>\n",
       "      <td>2.0 out of 5 stars</td>\n",
       "    </tr>\n",
       "    <tr>\n",
       "      <th>7</th>\n",
       "      <td>monitor power issue</td>\n",
       "      <td>\\r\\n  monitor is not turning on from 2 weeks o...</td>\n",
       "      <td>2.0 out of 5 stars</td>\n",
       "    </tr>\n",
       "    <tr>\n",
       "      <th>8</th>\n",
       "      <td>waste</td>\n",
       "      <td>\\r\\n  waste of money sometimes screen was mark...</td>\n",
       "      <td>2.0 out of 5 stars</td>\n",
       "    </tr>\n",
       "    <tr>\n",
       "      <th>9</th>\n",
       "      <td>Not able to download warranty card</td>\n",
       "      <td>\\r\\n  Good\\r\\n</td>\n",
       "      <td>2.0 out of 5 stars</td>\n",
       "    </tr>\n",
       "    <tr>\n",
       "      <th>10</th>\n",
       "      <td>NaN</td>\n",
       "      <td>NaN</td>\n",
       "      <td>NaN</td>\n",
       "    </tr>\n",
       "    <tr>\n",
       "      <th>11</th>\n",
       "      <td>NaN</td>\n",
       "      <td>NaN</td>\n",
       "      <td>NaN</td>\n",
       "    </tr>\n",
       "    <tr>\n",
       "      <th>12</th>\n",
       "      <td>Heating</td>\n",
       "      <td>\\r\\n  Air vent is towards down side....can't k...</td>\n",
       "      <td>2.0 out of 5 stars</td>\n",
       "    </tr>\n",
       "    <tr>\n",
       "      <th>13</th>\n",
       "      <td>NaN</td>\n",
       "      <td>NaN</td>\n",
       "      <td>NaN</td>\n",
       "    </tr>\n",
       "    <tr>\n",
       "      <th>14</th>\n",
       "      <td>Not a Great Product</td>\n",
       "      <td>\\r\\n  Pros:&lt;br&gt;It is light weight, good graphi...</td>\n",
       "      <td>3.0 out of 5 stars</td>\n",
       "    </tr>\n",
       "    <tr>\n",
       "      <th>15</th>\n",
       "      <td>Heats up but rest is fine</td>\n",
       "      <td>\\r\\n  The system heats up a lot during normal ...</td>\n",
       "      <td>3.0 out of 5 stars</td>\n",
       "    </tr>\n",
       "    <tr>\n",
       "      <th>16</th>\n",
       "      <td>When I performed HP Hardware diagnosis, the ke...</td>\n",
       "      <td>\\r\\n  The product worked fine for the first fi...</td>\n",
       "      <td>3.0 out of 5 stars</td>\n",
       "    </tr>\n",
       "    <tr>\n",
       "      <th>17</th>\n",
       "      <td>Heating issue is not acceptable for this range...</td>\n",
       "      <td>\\r\\n  The only thing that i dont like is the h...</td>\n",
       "      <td>3.0 out of 5 stars</td>\n",
       "    </tr>\n",
       "    <tr>\n",
       "      <th>18</th>\n",
       "      <td>Finding issue with display</td>\n",
       "      <td>\\r\\n  I see screen gets some straight lines ho...</td>\n",
       "      <td>3.0 out of 5 stars</td>\n",
       "    </tr>\n",
       "    <tr>\n",
       "      <th>19</th>\n",
       "      <td>Design flaw</td>\n",
       "      <td>\\r\\n  This is the one of the beat configuratio...</td>\n",
       "      <td>3.0 out of 5 stars</td>\n",
       "    </tr>\n",
       "  </tbody>\n",
       "</table>\n",
       "</div>"
      ],
      "text/plain": [
       "                                         Review_title  \\\n",
       "0                            Suitable for School kids   \n",
       "1   Misrepresentation on MS Office 2019 license - ...   \n",
       "2                          The sold me renewed laptop   \n",
       "3      Amazon dupes with specification/ battery sucks   \n",
       "4                            Display back light issue   \n",
       "5                                        Battery life   \n",
       "6                           No for professional works   \n",
       "7                                 monitor power issue   \n",
       "8                                               waste   \n",
       "9                  Not able to download warranty card   \n",
       "10                                                NaN   \n",
       "11                                                NaN   \n",
       "12                                            Heating   \n",
       "13                                                NaN   \n",
       "14                                Not a Great Product   \n",
       "15                          Heats up but rest is fine   \n",
       "16  When I performed HP Hardware diagnosis, the ke...   \n",
       "17  Heating issue is not acceptable for this range...   \n",
       "18                         Finding issue with display   \n",
       "19                                        Design flaw   \n",
       "\n",
       "                                          Review_text             Ratings  \n",
       "0   \\r\\n  If you are a College student or a profes...  2.0 out of 5 stars  \n",
       "1   \\r\\n  Update after one month usage - MS Office...  2.0 out of 5 stars  \n",
       "2   \\r\\n  It’s look like renewed laptop because la...  2.0 out of 5 stars  \n",
       "3   \\r\\n  &nbsp;I had seen the specifications and ...  2.0 out of 5 stars  \n",
       "4   \\r\\n  Display gone with 2 months.. But anyway ...  2.0 out of 5 stars  \n",
       "5   \\r\\n  Battery backup give only one hour . What...  2.0 out of 5 stars  \n",
       "6   \\r\\n  Blue screen while power on the linux Ope...  2.0 out of 5 stars  \n",
       "7   \\r\\n  monitor is not turning on from 2 weeks o...  2.0 out of 5 stars  \n",
       "8   \\r\\n  waste of money sometimes screen was mark...  2.0 out of 5 stars  \n",
       "9                                      \\r\\n  Good\\r\\n  2.0 out of 5 stars  \n",
       "10                                                NaN                 NaN  \n",
       "11                                                NaN                 NaN  \n",
       "12  \\r\\n  Air vent is towards down side....can't k...  2.0 out of 5 stars  \n",
       "13                                                NaN                 NaN  \n",
       "14  \\r\\n  Pros:<br>It is light weight, good graphi...  3.0 out of 5 stars  \n",
       "15  \\r\\n  The system heats up a lot during normal ...  3.0 out of 5 stars  \n",
       "16  \\r\\n  The product worked fine for the first fi...  3.0 out of 5 stars  \n",
       "17  \\r\\n  The only thing that i dont like is the h...  3.0 out of 5 stars  \n",
       "18  \\r\\n  I see screen gets some straight lines ho...  3.0 out of 5 stars  \n",
       "19  \\r\\n  This is the one of the beat configuratio...  3.0 out of 5 stars  "
      ]
     },
     "execution_count": 28,
     "metadata": {},
     "output_type": "execute_result"
    }
   ],
   "source": [
    "df.drop(columns = 'Unnamed: 0', inplace = True)\n",
    "print(\"We have {} Rows and {} Columns in our dataframe\".format(df.shape[0], df.shape[1]))\n",
    "df.head(20)"
   ]
  },
  {
   "cell_type": "code",
   "execution_count": 29,
   "metadata": {},
   "outputs": [
    {
     "data": {
      "text/plain": [
       "Review_title    9029\n",
       "Review_text     8085\n",
       "Ratings         9027\n",
       "dtype: int64"
      ]
     },
     "execution_count": 29,
     "metadata": {},
     "output_type": "execute_result"
    }
   ],
   "source": [
    "df.isna().sum() # checking for missing values"
   ]
  },
  {
   "cell_type": "code",
   "execution_count": 30,
   "metadata": {},
   "outputs": [
    {
     "data": {
      "text/plain": [
       "<AxesSubplot:>"
      ]
     },
     "execution_count": 30,
     "metadata": {},
     "output_type": "execute_result"
    },
    {
     "data": {
      "image/png": "[encoded data removed]",
      "text/plain": [
       "<Figure size 1080x576 with 2 Axes>"
      ]
     },
     "metadata": {
      "needs_background": "light"
     },
     "output_type": "display_data"
    }
   ],
   "source": [
    "missingno.matrix(df, figsize = (15,8), color=(0.25, 0.75, 0.25), fontsize=18)"
   ]
  },
  {
   "cell_type": "code",
   "execution_count": 31,
   "metadata": {},
   "outputs": [
    {
     "name": "stdout",
     "output_type": "stream",
     "text": [
      "We have 77550 Rows and 3 Columns in our dataframe before removing NaN\n",
      "We have 68294 Rows and 3 Columns in our dataframe after removing NaN\n"
     ]
    }
   ],
   "source": [
    "print(\"We have {} Rows and {} Columns in our dataframe before removing NaN\".format(df.shape[0], df.shape[1]))\n",
    "df.dropna(inplace=True)\n",
    "print(\"We have {} Rows and {} Columns in our dataframe after removing NaN\".format(df.shape[0], df.shape[1]))"
   ]
  },
  {
   "cell_type": "code",
   "execution_count": 32,
   "metadata": {},
   "outputs": [
    {
     "data": {
      "text/plain": [
       "Review_title    0\n",
       "Review_text     0\n",
       "Ratings         0\n",
       "dtype: int64"
      ]
     },
     "execution_count": 32,
     "metadata": {},
     "output_type": "execute_result"
    }
   ],
   "source": [
    "df.isnull().sum()"
   ]
  },
  {
   "cell_type": "code",
   "execution_count": 33,
   "metadata": {},
   "outputs": [
    {
     "data": {
      "text/plain": [
       "array(['2.0 out of 5 stars', '3.0 out of 5 stars', '1.0 out of 5 stars',\n",
       "       '5.0 out of 5 stars', '4.0 out of 5 stars', '5', '1', '4', '3',\n",
       "       '2'], dtype=object)"
      ]
     },
     "execution_count": 33,
     "metadata": {},
     "output_type": "execute_result"
    }
   ],
   "source": [
    "df['Ratings'].unique()"
   ]
  },
  {
   "cell_type": "code",
   "execution_count": 34,
   "metadata": {},
   "outputs": [
    {
     "data": {
      "text/plain": [
       "array([2, 3, 1, 5, 4])"
      ]
     },
     "execution_count": 34,
     "metadata": {},
     "output_type": "execute_result"
    }
   ],
   "source": [
    "df['Ratings'] = df['Ratings'].replace('1.0 out of 5 stars',1)\n",
    "df['Ratings'] = df['Ratings'].replace('2.0 out of 5 stars',2)\n",
    "df['Ratings'] = df['Ratings'].replace('3.0 out of 5 stars',3)\n",
    "df['Ratings'] = df['Ratings'].replace('4.0 out of 5 stars',4)\n",
    "df['Ratings'] = df['Ratings'].replace('5.0 out of 5 stars',5)\n",
    "df['Ratings'] = df['Ratings'].astype('int')\n",
    "df['Ratings'].unique()"
   ]
  },
  {
   "cell_type": "code",
   "execution_count": 35,
   "metadata": {},
   "outputs": [
    {
     "data": {
      "text/html": [
       "<div>\n",
       "<style scoped>\n",
       "    .dataframe tbody tr th:only-of-type {\n",
       "        vertical-align: middle;\n",
       "    }\n",
       "\n",
       "    .dataframe tbody tr th {\n",
       "        vertical-align: top;\n",
       "    }\n",
       "\n",
       "    .dataframe thead th {\n",
       "        text-align: right;\n",
       "    }\n",
       "</style>\n",
       "<table border=\"1\" class=\"dataframe\">\n",
       "  <thead>\n",
       "    <tr style=\"text-align: right;\">\n",
       "      <th></th>\n",
       "      <th>Review_title</th>\n",
       "      <th>Review_text</th>\n",
       "      <th>Ratings</th>\n",
       "      <th>Review</th>\n",
       "    </tr>\n",
       "  </thead>\n",
       "  <tbody>\n",
       "    <tr>\n",
       "      <th>0</th>\n",
       "      <td>Suitable for School kids</td>\n",
       "      <td>\\r\\n  If you are a College student or a profes...</td>\n",
       "      <td>2</td>\n",
       "      <td>Suitable for School kids \\r\\n  If you are a Co...</td>\n",
       "    </tr>\n",
       "    <tr>\n",
       "      <th>1</th>\n",
       "      <td>Misrepresentation on MS Office 2019 license - ...</td>\n",
       "      <td>\\r\\n  Update after one month usage - MS Office...</td>\n",
       "      <td>2</td>\n",
       "      <td>Misrepresentation on MS Office 2019 license - ...</td>\n",
       "    </tr>\n",
       "    <tr>\n",
       "      <th>2</th>\n",
       "      <td>The sold me renewed laptop</td>\n",
       "      <td>\\r\\n  It’s look like renewed laptop because la...</td>\n",
       "      <td>2</td>\n",
       "      <td>The sold me renewed laptop \\r\\n  It’s look lik...</td>\n",
       "    </tr>\n",
       "    <tr>\n",
       "      <th>3</th>\n",
       "      <td>Amazon dupes with specification/ battery sucks</td>\n",
       "      <td>\\r\\n  &amp;nbsp;I had seen the specifications and ...</td>\n",
       "      <td>2</td>\n",
       "      <td>Amazon dupes with specification/ battery sucks...</td>\n",
       "    </tr>\n",
       "    <tr>\n",
       "      <th>4</th>\n",
       "      <td>Display back light issue</td>\n",
       "      <td>\\r\\n  Display gone with 2 months.. But anyway ...</td>\n",
       "      <td>2</td>\n",
       "      <td>Display back light issue \\r\\n  Display gone wi...</td>\n",
       "    </tr>\n",
       "    <tr>\n",
       "      <th>...</th>\n",
       "      <td>...</td>\n",
       "      <td>...</td>\n",
       "      <td>...</td>\n",
       "      <td>...</td>\n",
       "    </tr>\n",
       "    <tr>\n",
       "      <th>77545</th>\n",
       "      <td>Nice product</td>\n",
       "      <td>good product</td>\n",
       "      <td>4</td>\n",
       "      <td>Nice product good product</td>\n",
       "    </tr>\n",
       "    <tr>\n",
       "      <th>77546</th>\n",
       "      <td>Awesome</td>\n",
       "      <td>Very good as expected and happy with the purchase</td>\n",
       "      <td>5</td>\n",
       "      <td>Awesome Very good as expected and happy with t...</td>\n",
       "    </tr>\n",
       "    <tr>\n",
       "      <th>77547</th>\n",
       "      <td>Awesome</td>\n",
       "      <td>I love it! No complaint!</td>\n",
       "      <td>5</td>\n",
       "      <td>Awesome I love it! No complaint!</td>\n",
       "    </tr>\n",
       "    <tr>\n",
       "      <th>77548</th>\n",
       "      <td>Nice product</td>\n",
       "      <td>good product</td>\n",
       "      <td>4</td>\n",
       "      <td>Nice product good product</td>\n",
       "    </tr>\n",
       "    <tr>\n",
       "      <th>77549</th>\n",
       "      <td>Awesome</td>\n",
       "      <td>Very good as expected and happy with the purchase</td>\n",
       "      <td>5</td>\n",
       "      <td>Awesome Very good as expected and happy with t...</td>\n",
       "    </tr>\n",
       "  </tbody>\n",
       "</table>\n",
       "<p>68294 rows × 4 columns</p>\n",
       "</div>"
      ],
      "text/plain": [
       "                                            Review_title  \\\n",
       "0                               Suitable for School kids   \n",
       "1      Misrepresentation on MS Office 2019 license - ...   \n",
       "2                             The sold me renewed laptop   \n",
       "3         Amazon dupes with specification/ battery sucks   \n",
       "4                               Display back light issue   \n",
       "...                                                  ...   \n",
       "77545                                       Nice product   \n",
       "77546                                            Awesome   \n",
       "77547                                            Awesome   \n",
       "77548                                       Nice product   \n",
       "77549                                            Awesome   \n",
       "\n",
       "                                             Review_text  Ratings  \\\n",
       "0      \\r\\n  If you are a College student or a profes...        2   \n",
       "1      \\r\\n  Update after one month usage - MS Office...        2   \n",
       "2      \\r\\n  It’s look like renewed laptop because la...        2   \n",
       "3      \\r\\n  &nbsp;I had seen the specifications and ...        2   \n",
       "4      \\r\\n  Display gone with 2 months.. But anyway ...        2   \n",
       "...                                                  ...      ...   \n",
       "77545                                       good product        4   \n",
       "77546  Very good as expected and happy with the purchase        5   \n",
       "77547                           I love it! No complaint!        5   \n",
       "77548                                       good product        4   \n",
       "77549  Very good as expected and happy with the purchase        5   \n",
       "\n",
       "                                                  Review  \n",
       "0      Suitable for School kids \\r\\n  If you are a Co...  \n",
       "1      Misrepresentation on MS Office 2019 license - ...  \n",
       "2      The sold me renewed laptop \\r\\n  It’s look lik...  \n",
       "3      Amazon dupes with specification/ battery sucks...  \n",
       "4      Display back light issue \\r\\n  Display gone wi...  \n",
       "...                                                  ...  \n",
       "77545                          Nice product good product  \n",
       "77546  Awesome Very good as expected and happy with t...  \n",
       "77547                   Awesome I love it! No complaint!  \n",
       "77548                          Nice product good product  \n",
       "77549  Awesome Very good as expected and happy with t...  \n",
       "\n",
       "[68294 rows x 4 columns]"
      ]
     },
     "execution_count": 35,
     "metadata": {},
     "output_type": "execute_result"
    }
   ],
   "source": [
    "# Now combining the \"Review_title\" and \"Review_text\" columns into one single column called \"Review\"\n",
    "df['Review'] = df['Review_title'].map(str)+' '+df['Review_text']\n",
    "df"
   ]
  },
  {
   "cell_type": "code",
   "execution_count": 36,
   "metadata": {},
   "outputs": [
    {
     "data": {
      "text/plain": [
       "'Suitable for School kids \\r\\n  If you are a College student or a professional who depends heavily on laptop for pretty much everyday then  this laptop is not for you. It hangs more often than it runs. Cannot install essential computer science software such as Eclipse or android studio because then this laptop just dies.<br><br>I took this laptop thinking that it will have good performance based on its configuration.<br><br>But if you are someone who wants to attend online classes or just browse, then you may go for this laptop.\\r\\n'"
      ]
     },
     "execution_count": 36,
     "metadata": {},
     "output_type": "execute_result"
    }
   ],
   "source": [
    "df['Review'][0]"
   ]
  },
  {
   "cell_type": "code",
   "execution_count": 37,
   "metadata": {},
   "outputs": [
    {
     "data": {
      "text/plain": [
       "'Misrepresentation on MS Office 2019 license - it is one month trial \\r\\n  Update after one month usage - MS Office 2019 preinstalled edition became unlicensed version within 30 days and refused to activate. HP support shared their product sheet that stated that this laptop came only with a trial version of MS Office 2019. Now I am chasing seller Appario Retail to honour the commitment.<br><br>Bad experience after paying high price (around ₹67,000) for preinstalled genuine software.<br><br>Other wise product has sleek looks, superfast fingerprint scanner, very good display, very responsive touchpad, decent (but tinny) speakers, USB C and barrel plug charging options and under 10 second boot up (SSD drive). Preloaded with Win10 Home and MS Office (not sure whether trial or full version). Drawbacks - weighs 1.42 kg, base gets warm rather quickly and so does the power adapter. Decent for a college student.\\r\\n'"
      ]
     },
     "execution_count": 37,
     "metadata": {},
     "output_type": "execute_result"
    }
   ],
   "source": [
    "df['Review'][1]"
   ]
  },
  {
   "cell_type": "code",
   "execution_count": 38,
   "metadata": {},
   "outputs": [
    {
     "data": {
      "text/plain": [
       "'The sold me renewed laptop \\r\\n  It’s look like renewed laptop because laptop charging jack is loose and left side speaker sounds like it’s tear. Bad sound quality  and finger sensor quality look like 2011 touch phone of wing and any Chinese phone touch. Waste of money and one more thing day by day Amazon product quality getting poor\\r\\n'"
      ]
     },
     "execution_count": 38,
     "metadata": {},
     "output_type": "execute_result"
    }
   ],
   "source": [
    "df['Review'][2]"
   ]
  },
  {
   "cell_type": "code",
   "execution_count": 39,
   "metadata": {},
   "outputs": [],
   "source": [
    "def decontracted(text):\n",
    "    text = re.sub(r\"won't\", \"will not\", text)\n",
    "    text = re.sub(r\"don’t\", \"do not\", text)\n",
    "    text = re.sub(r\"can't\", \"can not\", text)\n",
    "    text = re.sub(r\"im \", \"i am\", text)\n",
    "    text = re.sub(r\"yo \", \"you \",text)\n",
    "    text = re.sub(r\"doesn’t\", \"does not\",text)\n",
    "    text = re.sub(r\"n\\'t\", \" not\", text)\n",
    "    text = re.sub(r\"\\'re\", \" are\", text)\n",
    "    text = re.sub(r\"\\'s\", \" is\", text)\n",
    "    text = re.sub(r\"\\'d\", \" would\", text)\n",
    "    text = re.sub(r\"\\'ll\", \" will\", text)\n",
    "    text = re.sub(r\"\\'t\", \" not\", text)\n",
    "    text = re.sub(r\"\\'ve\", \" have\", text)\n",
    "    text = re.sub(r\"\\'m\", \" am\", text)\n",
    "    text = re.sub(r\"<br>\", \" \", text)\n",
    "    text = re.sub(r'http\\S+', '', text) #removing urls\n",
    "    return text\n",
    "\n",
    "# Lowercasing the alphabets\n",
    "df['Review'] = df['Review'].apply(lambda x : x.lower())\n",
    "df['Review'] = df['Review'].apply(lambda x : decontracted(x))\n",
    "\n",
    "# Removing punctuations from the review\n",
    "df['Review'] = df['Review'].str.replace('[^\\w\\s]','')\n",
    "df['Review'] = df['Review'].str.replace('\\n',' ')"
   ]
  },
  {
   "cell_type": "code",
   "execution_count": 40,
   "metadata": {},
   "outputs": [],
   "source": [
    "# Removing all the stopwords\n",
    "stop = stopwords.words('english')\n",
    "df['Review'] = df['Review'].apply(lambda x: ' '.join([word for word in x.split() if word not in (stop)]))"
   ]
  },
  {
   "cell_type": "code",
   "execution_count": 41,
   "metadata": {},
   "outputs": [
    {
     "data": {
      "text/plain": [
       "'suitable school kids college student professional depends heavily laptop pretty much everyday laptop hangs often runs cannot install essential computer science software eclipse android studio laptop dies took laptop thinking good performance based configuration someone wants attend online classes browse may go laptop'"
      ]
     },
     "execution_count": 41,
     "metadata": {},
     "output_type": "execute_result"
    }
   ],
   "source": [
    "df['Review'][0]"
   ]
  },
  {
   "cell_type": "code",
   "execution_count": 42,
   "metadata": {},
   "outputs": [
    {
     "data": {
      "text/plain": [
       "'misrepresentation ms office 2019 license one month trial update one month usage ms office 2019 preinstalled edition became unlicensed version within 30 days refused activate hp support shared product sheet stated laptop came trial version ms office 2019 chasing seller appario retail honour commitment bad experience paying high price around 67000 preinstalled genuine software wise product sleek looks superfast fingerprint scanner good display responsive touchpad decent tinny speakers usb c barrel plug charging options 10 second boot ssd drive preloaded win10 home ms office sure whether trial full version drawbacks weighs 142 kg base gets warm rather quickly power adapter decent college student'"
      ]
     },
     "execution_count": 42,
     "metadata": {},
     "output_type": "execute_result"
    }
   ],
   "source": [
    "df['Review'][1]"
   ]
  },
  {
   "cell_type": "code",
   "execution_count": 43,
   "metadata": {},
   "outputs": [
    {
     "data": {
      "text/plain": [
       "'sold renewed laptop look like renewed laptop laptop charging jack loose left side speaker sounds like tear bad sound quality finger sensor quality look like 2011 touch phone wing chinese phone touch waste money one thing day day amazon product quality getting poor'"
      ]
     },
     "execution_count": 43,
     "metadata": {},
     "output_type": "execute_result"
    }
   ],
   "source": [
    "df['Review'][2]"
   ]
  },
  {
   "cell_type": "markdown",
   "metadata": {},
   "source": [
    "# Lemmatization"
   ]
  },
  {
   "cell_type": "code",
   "execution_count": 44,
   "metadata": {},
   "outputs": [],
   "source": [
    "from nltk.stem import WordNetLemmatizer"
   ]
  },
  {
   "cell_type": "code",
   "execution_count": 45,
   "metadata": {},
   "outputs": [],
   "source": [
    "lemmatizer = WordNetLemmatizer()"
   ]
  },
  {
   "cell_type": "code",
   "execution_count": 46,
   "metadata": {},
   "outputs": [],
   "source": [
    "# Defining functiom to convert nltk tag to wordnet tags\n",
    "def nltk_tag_to_wordnet_tag(nltk_tag):\n",
    "    if nltk_tag.startswith('J'):\n",
    "        return wordnet.ADJ\n",
    "    elif nltk_tag.startswith('V'):\n",
    "        return wordnet.VERB\n",
    "    elif nltk_tag.startswith('N'):\n",
    "        return wordnet.NOUN\n",
    "    elif nltk_tag.startswith('R'):\n",
    "        return wordnet.ADV\n",
    "    else:\n",
    "        return None\n",
    "    \n",
    "# Defining function to lemmatize our text\n",
    "def lemmatize_sentence(sentence):\n",
    "    # tokenize the sentence and find the pos_tag\n",
    "    nltk_tagged = nltk.pos_tag(nltk.word_tokenize(sentence))\n",
    "    # tuple of (token, wordnet_tag)\n",
    "    wordnet_tagged = map(lambda x : (x[0], nltk_tag_to_wordnet_tag(x[1])), nltk_tagged)\n",
    "    lemmatize_sentence = []\n",
    "    for word, tag in wordnet_tagged:\n",
    "        if tag is None:\n",
    "            lemmatize_sentence.append(word)\n",
    "        else:\n",
    "            lemmatize_sentence.append(lemmatizer.lemmatize(word,tag))\n",
    "    return \" \".join(lemmatize_sentence)    \n",
    "\n",
    "df['Review'] = df['Review'].apply(lambda x : lemmatize_sentence(x))"
   ]
  },
  {
   "cell_type": "code",
   "execution_count": 47,
   "metadata": {},
   "outputs": [
    {
     "data": {
      "text/plain": [
       "'suitable school kid college student professional depend heavily laptop pretty much everyday laptop hang often run can not install essential computer science software eclipse android studio laptop dy take laptop thinking good performance base configuration someone want attend online class browse may go laptop'"
      ]
     },
     "execution_count": 47,
     "metadata": {},
     "output_type": "execute_result"
    }
   ],
   "source": [
    "df['Review'][0]"
   ]
  },
  {
   "cell_type": "code",
   "execution_count": 48,
   "metadata": {},
   "outputs": [
    {
     "data": {
      "text/plain": [
       "'misrepresentation m office 2019 license one month trial update one month usage m office 2019 preinstalled edition become unlicensed version within 30 day refuse activate hp support share product sheet state laptop come trial version m office 2019 chase seller appario retail honour commitment bad experience pay high price around 67000 preinstalled genuine software wise product sleek look superfast fingerprint scanner good display responsive touchpad decent tinny speaker usb c barrel plug charge option 10 second boot ssd drive preloaded win10 home m office sure whether trial full version drawback weigh 142 kg base get warm rather quickly power adapter decent college student'"
      ]
     },
     "execution_count": 48,
     "metadata": {},
     "output_type": "execute_result"
    }
   ],
   "source": [
    "df['Review'][1]"
   ]
  },
  {
   "cell_type": "code",
   "execution_count": 49,
   "metadata": {},
   "outputs": [
    {
     "data": {
      "text/plain": [
       "'sell renew laptop look like renew laptop laptop charge jack loose leave side speaker sound like tear bad sound quality finger sensor quality look like 2011 touch phone wing chinese phone touch waste money one thing day day amazon product quality get poor'"
      ]
     },
     "execution_count": 49,
     "metadata": {},
     "output_type": "execute_result"
    }
   ],
   "source": [
    "df['Review'][2]"
   ]
  },
  {
   "cell_type": "markdown",
   "metadata": {},
   "source": [
    "# Text Normalization - Standardization"
   ]
  },
  {
   "cell_type": "code",
   "execution_count": 50,
   "metadata": {},
   "outputs": [],
   "source": [
    "# Noise removal function\n",
    "def scrub_words(text):\n",
    "    # remove HTML markup\n",
    "    text = re.sub(\"(<.*?>)\", \"\", text)\n",
    "    # remove non-ascii and digits\n",
    "    text = re.sub(\"(\\\\W)\", \" \", text)\n",
    "    text = re.sub(\"(\\\\d)\", \"\", text)\n",
    "    # remove white space\n",
    "    text = text.strip()\n",
    "    return text\n",
    "\n",
    "df['Review'] = df['Review'].apply(lambda x : scrub_words(x))"
   ]
  },
  {
   "cell_type": "code",
   "execution_count": 51,
   "metadata": {},
   "outputs": [
    {
     "data": {
      "text/plain": [
       "'suitable school kid college student professional depend heavily laptop pretty much everyday laptop hang often run can not install essential computer science software eclipse android studio laptop dy take laptop thinking good performance base configuration someone want attend online class browse may go laptop'"
      ]
     },
     "execution_count": 51,
     "metadata": {},
     "output_type": "execute_result"
    }
   ],
   "source": [
    "df['Review'][0]"
   ]
  },
  {
   "cell_type": "code",
   "execution_count": 52,
   "metadata": {},
   "outputs": [
    {
     "data": {
      "text/plain": [
       "'misrepresentation m office  license one month trial update one month usage m office  preinstalled edition become unlicensed version within  day refuse activate hp support share product sheet state laptop come trial version m office  chase seller appario retail honour commitment bad experience pay high price around  preinstalled genuine software wise product sleek look superfast fingerprint scanner good display responsive touchpad decent tinny speaker usb c barrel plug charge option  second boot ssd drive preloaded win home m office sure whether trial full version drawback weigh  kg base get warm rather quickly power adapter decent college student'"
      ]
     },
     "execution_count": 52,
     "metadata": {},
     "output_type": "execute_result"
    }
   ],
   "source": [
    "df['Review'][1]"
   ]
  },
  {
   "cell_type": "code",
   "execution_count": 53,
   "metadata": {},
   "outputs": [
    {
     "data": {
      "text/plain": [
       "'sell renew laptop look like renew laptop laptop charge jack loose leave side speaker sound like tear bad sound quality finger sensor quality look like  touch phone wing chinese phone touch waste money one thing day day amazon product quality get poor'"
      ]
     },
     "execution_count": 53,
     "metadata": {},
     "output_type": "execute_result"
    }
   ],
   "source": [
    "df['Review'][2]"
   ]
  },
  {
   "cell_type": "markdown",
   "metadata": {},
   "source": [
    "# Word Counts"
   ]
  },
  {
   "cell_type": "code",
   "execution_count": 54,
   "metadata": {},
   "outputs": [
    {
     "data": {
      "text/html": [
       "<div>\n",
       "<style scoped>\n",
       "    .dataframe tbody tr th:only-of-type {\n",
       "        vertical-align: middle;\n",
       "    }\n",
       "\n",
       "    .dataframe tbody tr th {\n",
       "        vertical-align: top;\n",
       "    }\n",
       "\n",
       "    .dataframe thead th {\n",
       "        text-align: right;\n",
       "    }\n",
       "</style>\n",
       "<table border=\"1\" class=\"dataframe\">\n",
       "  <thead>\n",
       "    <tr style=\"text-align: right;\">\n",
       "      <th></th>\n",
       "      <th>Review_WC</th>\n",
       "      <th>Review</th>\n",
       "    </tr>\n",
       "  </thead>\n",
       "  <tbody>\n",
       "    <tr>\n",
       "      <th>0</th>\n",
       "      <td>44</td>\n",
       "      <td>suitable school kid college student profession...</td>\n",
       "    </tr>\n",
       "    <tr>\n",
       "      <th>1</th>\n",
       "      <td>103</td>\n",
       "      <td>misrepresentation m office  license one month ...</td>\n",
       "    </tr>\n",
       "    <tr>\n",
       "      <th>2</th>\n",
       "      <td>43</td>\n",
       "      <td>sell renew laptop look like renew laptop lapto...</td>\n",
       "    </tr>\n",
       "    <tr>\n",
       "      <th>3</th>\n",
       "      <td>21</td>\n",
       "      <td>amazon dupe specification battery suck nbspi s...</td>\n",
       "    </tr>\n",
       "    <tr>\n",
       "      <th>4</th>\n",
       "      <td>16</td>\n",
       "      <td>display back light issue display go  month any...</td>\n",
       "    </tr>\n",
       "    <tr>\n",
       "      <th>5</th>\n",
       "      <td>7</td>\n",
       "      <td>battery life battery backup give one hour</td>\n",
       "    </tr>\n",
       "    <tr>\n",
       "      <th>6</th>\n",
       "      <td>18</td>\n",
       "      <td>professional work blue screen power linux oper...</td>\n",
       "    </tr>\n",
       "    <tr>\n",
       "      <th>7</th>\n",
       "      <td>8</td>\n",
       "      <td>monitor power issue monitor turn  week purchase</td>\n",
       "    </tr>\n",
       "    <tr>\n",
       "      <th>8</th>\n",
       "      <td>6</td>\n",
       "      <td>waste waste money sometimes screen mark</td>\n",
       "    </tr>\n",
       "    <tr>\n",
       "      <th>9</th>\n",
       "      <td>5</td>\n",
       "      <td>able download warranty card good</td>\n",
       "    </tr>\n",
       "  </tbody>\n",
       "</table>\n",
       "</div>"
      ],
      "text/plain": [
       "   Review_WC                                             Review\n",
       "0         44  suitable school kid college student profession...\n",
       "1        103  misrepresentation m office  license one month ...\n",
       "2         43  sell renew laptop look like renew laptop lapto...\n",
       "3         21  amazon dupe specification battery suck nbspi s...\n",
       "4         16  display back light issue display go  month any...\n",
       "5          7          battery life battery backup give one hour\n",
       "6         18  professional work blue screen power linux oper...\n",
       "7          8    monitor power issue monitor turn  week purchase\n",
       "8          6            waste waste money sometimes screen mark\n",
       "9          5                   able download warranty card good"
      ]
     },
     "execution_count": 54,
     "metadata": {},
     "output_type": "execute_result"
    }
   ],
   "source": [
    "# Creating column for word counts in the review text\n",
    "df['Review_WC'] = df['Review'].apply(lambda x: len(str(x).split(' ')))\n",
    "df[['Review_WC', 'Review']].head(10)"
   ]
  },
  {
   "cell_type": "code",
   "execution_count": 55,
   "metadata": {},
   "outputs": [
    {
     "data": {
      "image/png": "[encoded data removed]",
      "text/plain": [
       "<Figure size 720x504 with 1 Axes>"
      ]
     },
     "metadata": {
      "needs_background": "light"
     },
     "output_type": "display_data"
    }
   ],
   "source": [
    "# Density plot and histogram of all word count\n",
    "plt.figure(figsize=(10,7))\n",
    "sns.distplot(df['Review_WC'], hist = True, kde = True,\n",
    "            bins = int(180/5), color = 'darkblue',\n",
    "            hist_kws = {'edgecolor':'black'},\n",
    "            kde_kws = {'linewidth':4})\n",
    "plt.show()"
   ]
  },
  {
   "cell_type": "markdown",
   "metadata": {},
   "source": [
    "# Character Counts\n"
   ]
  },
  {
   "cell_type": "code",
   "execution_count": 56,
   "metadata": {},
   "outputs": [
    {
     "data": {
      "text/html": [
       "<div>\n",
       "<style scoped>\n",
       "    .dataframe tbody tr th:only-of-type {\n",
       "        vertical-align: middle;\n",
       "    }\n",
       "\n",
       "    .dataframe tbody tr th {\n",
       "        vertical-align: top;\n",
       "    }\n",
       "\n",
       "    .dataframe thead th {\n",
       "        text-align: right;\n",
       "    }\n",
       "</style>\n",
       "<table border=\"1\" class=\"dataframe\">\n",
       "  <thead>\n",
       "    <tr style=\"text-align: right;\">\n",
       "      <th></th>\n",
       "      <th>Review_CC</th>\n",
       "      <th>Review</th>\n",
       "    </tr>\n",
       "  </thead>\n",
       "  <tbody>\n",
       "    <tr>\n",
       "      <th>0</th>\n",
       "      <td>309</td>\n",
       "      <td>suitable school kid college student profession...</td>\n",
       "    </tr>\n",
       "    <tr>\n",
       "      <th>1</th>\n",
       "      <td>654</td>\n",
       "      <td>misrepresentation m office  license one month ...</td>\n",
       "    </tr>\n",
       "    <tr>\n",
       "      <th>2</th>\n",
       "      <td>250</td>\n",
       "      <td>sell renew laptop look like renew laptop lapto...</td>\n",
       "    </tr>\n",
       "    <tr>\n",
       "      <th>3</th>\n",
       "      <td>126</td>\n",
       "      <td>amazon dupe specification battery suck nbspi s...</td>\n",
       "    </tr>\n",
       "    <tr>\n",
       "      <th>4</th>\n",
       "      <td>102</td>\n",
       "      <td>display back light issue display go  month any...</td>\n",
       "    </tr>\n",
       "    <tr>\n",
       "      <th>5</th>\n",
       "      <td>41</td>\n",
       "      <td>battery life battery backup give one hour</td>\n",
       "    </tr>\n",
       "    <tr>\n",
       "      <th>6</th>\n",
       "      <td>125</td>\n",
       "      <td>professional work blue screen power linux oper...</td>\n",
       "    </tr>\n",
       "    <tr>\n",
       "      <th>7</th>\n",
       "      <td>47</td>\n",
       "      <td>monitor power issue monitor turn  week purchase</td>\n",
       "    </tr>\n",
       "    <tr>\n",
       "      <th>8</th>\n",
       "      <td>39</td>\n",
       "      <td>waste waste money sometimes screen mark</td>\n",
       "    </tr>\n",
       "    <tr>\n",
       "      <th>9</th>\n",
       "      <td>32</td>\n",
       "      <td>able download warranty card good</td>\n",
       "    </tr>\n",
       "  </tbody>\n",
       "</table>\n",
       "</div>"
      ],
      "text/plain": [
       "   Review_CC                                             Review\n",
       "0        309  suitable school kid college student profession...\n",
       "1        654  misrepresentation m office  license one month ...\n",
       "2        250  sell renew laptop look like renew laptop lapto...\n",
       "3        126  amazon dupe specification battery suck nbspi s...\n",
       "4        102  display back light issue display go  month any...\n",
       "5         41          battery life battery backup give one hour\n",
       "6        125  professional work blue screen power linux oper...\n",
       "7         47    monitor power issue monitor turn  week purchase\n",
       "8         39            waste waste money sometimes screen mark\n",
       "9         32                   able download warranty card good"
      ]
     },
     "execution_count": 56,
     "metadata": {},
     "output_type": "execute_result"
    }
   ],
   "source": [
    "# Creating column for character counts in the review text\n",
    "df['Review_CC'] = df['Review'].str.len()\n",
    "df[['Review_CC','Review']].head(10)"
   ]
  },
  {
   "cell_type": "code",
   "execution_count": 57,
   "metadata": {},
   "outputs": [
    {
     "data": {
      "image/png": "[encoded data removed]",
      "text/plain": [
       "<Figure size 720x504 with 1 Axes>"
      ]
     },
     "metadata": {
      "needs_background": "light"
     },
     "output_type": "display_data"
    }
   ],
   "source": [
    "# Density plot and histogram of all character count\n",
    "plt.figure(figsize=(10,7))\n",
    "sns.distplot(df['Review_CC'], hist = True, kde = True,\n",
    "            bins = int(180/5), color = 'darkblue',\n",
    "            hist_kws = {'edgecolor':'black'},\n",
    "            kde_kws = {'linewidth':4})\n",
    "plt.show()"
   ]
  },
  {
   "cell_type": "markdown",
   "metadata": {},
   "source": [
    "# Removing Outliers"
   ]
  },
  {
   "cell_type": "code",
   "execution_count": 58,
   "metadata": {},
   "outputs": [
    {
     "name": "stdout",
     "output_type": "stream",
     "text": [
      "We have 67260 Rows and 6 Columns in our dataframe after removing outliers\n"
     ]
    }
   ],
   "source": [
    "# Applying zscore to remove outliers\n",
    "z_score = zscore(df[['Review_WC']])\n",
    "abs_z_score = np.abs(z_score)\n",
    "filtering_entry = (abs_z_score < 3).all(axis = 1)\n",
    "df = df[filtering_entry]\n",
    "print(\"We have {} Rows and {} Columns in our dataframe after removing outliers\".format(df.shape[0], df.shape[1]))"
   ]
  },
  {
   "cell_type": "markdown",
   "metadata": {},
   "source": [
    "# Visualization\n",
    "histograms for word count and character count again after removing the outliers"
   ]
  },
  {
   "cell_type": "code",
   "execution_count": 59,
   "metadata": {},
   "outputs": [
    {
     "data": {
      "image/png": "[encoded data removed]",
      "text/plain": [
       "<Figure size 720x504 with 1 Axes>"
      ]
     },
     "metadata": {
      "needs_background": "light"
     },
     "output_type": "display_data"
    }
   ],
   "source": [
    "# Density plot and histogram of all word count\n",
    "plt.figure(figsize=(10,7))\n",
    "sns.distplot(df['Review_WC'], hist = True, kde = True,\n",
    "            bins = int(180/5), color = 'darkblue',\n",
    "            hist_kws = {'edgecolor':'black'},\n",
    "            kde_kws = {'linewidth':4})\n",
    "plt.show()"
   ]
  },
  {
   "cell_type": "code",
   "execution_count": 60,
   "metadata": {},
   "outputs": [
    {
     "data": {
      "image/png": "[encoded data removed]",
      "text/plain": [
       "<Figure size 720x504 with 1 Axes>"
      ]
     },
     "metadata": {
      "needs_background": "light"
     },
     "output_type": "display_data"
    }
   ],
   "source": [
    "# Density plot and histogram of all character count\n",
    "plt.figure(figsize=(10,7))\n",
    "sns.distplot(df['Review_CC'], hist = True, kde = True,\n",
    "            bins = int(180/5), color = 'darkblue',\n",
    "            hist_kws = {'edgecolor':'black'},\n",
    "            kde_kws = {'linewidth':4})\n",
    "plt.show()"
   ]
  },
  {
   "cell_type": "code",
   "execution_count": 61,
   "metadata": {},
   "outputs": [
    {
     "data": {
      "image/png": "[encoded data removed]",
      "text/plain": [
       "<Figure size 720x576 with 1 Axes>"
      ]
     },
     "metadata": {
      "needs_background": "light"
     },
     "output_type": "display_data"
    }
   ],
   "source": [
    "# Checking the ratings column details using count plot\n",
    "x = 'Ratings'\n",
    "fig, ax = plt.subplots(1,1,figsize=(10,8))\n",
    "sns.countplot(x=x,data=df,ax=ax)\n",
    "p=0\n",
    "for i in ax.patches:\n",
    "    q = i.get_height()/2\n",
    "    val = i.get_height()\n",
    "    ratio = round(val*100/len(df),2)\n",
    "    prn = f\"{val}\\n({ratio}%)\"\n",
    "    ax.text(p,q,prn,ha=\"center\",color=\"white\",rotation=0,fontweight=\"bold\",fontsize=\"13\")\n",
    "    p += 1\n",
    "    \n",
    "plt.title(\"Count Plot: rating\")\n",
    "plt.show()"
   ]
  },
  {
   "cell_type": "code",
   "execution_count": 62,
   "metadata": {},
   "outputs": [
    {
     "data": {
      "image/png": "[encoded data removed]",
      "text/plain": [
       "<Figure size 1440x720 with 5 Axes>"
      ]
     },
     "metadata": {
      "needs_background": "light"
     },
     "output_type": "display_data"
    }
   ],
   "source": [
    "# Checking review word count distribution for each rating\n",
    "ratings = np.sort(df.Ratings.unique())\n",
    "cols = 3\n",
    "rows = len(ratings)//cols\n",
    "if rows % cols != 0:\n",
    "    rows += 1\n",
    "    \n",
    "fig = plt.figure(figsize=(20,10))\n",
    "plt.subplots_adjust(hspace=0.3, wspace=0.2)\n",
    "p = 1\n",
    "colors = [(1,0,0,1),(0.6,0.2,0,1),(0.4,0.5,0,1),(0.2,0.7,0,1),(0,1,0.1,1)]\n",
    "for i in ratings:\n",
    "    axis = fig.add_subplot(rows,cols,p)\n",
    "    sns.distplot(df.Review_WC[df.Ratings==i], ax=axis, label=f\"For Rating: {i}\", color=colors[i-1])\n",
    "    axis.set_xlabel(f\"Review Word Count\")\n",
    "    axis.legend()\n",
    "    p += 1\n",
    "    \n",
    "plt.show()"
   ]
  },
  {
   "cell_type": "code",
   "execution_count": 63,
   "metadata": {},
   "outputs": [
    {
     "data": {
      "image/png": "[encoded data removed]",
      "text/plain": [
       "<Figure size 1440x720 with 5 Axes>"
      ]
     },
     "metadata": {
      "needs_background": "light"
     },
     "output_type": "display_data"
    }
   ],
   "source": [
    "# Checking review character count distribution for each rating\n",
    "ratings = np.sort(df.Ratings.unique())\n",
    "cols = 3\n",
    "rows = len(ratings)//cols\n",
    "if rows % cols != 0:\n",
    "    rows += 1\n",
    "    \n",
    "fig = plt.figure(figsize=(20,10))\n",
    "plt.subplots_adjust(hspace=0.3, wspace=0.2)\n",
    "p = 1\n",
    "colors = [(1,0,0,1),(0.6,0.2,0,1),(0.4,0.5,0,1),(0.2,0.7,0,1),(0,1,0.1,1)]\n",
    "for i in ratings:\n",
    "    axis = fig.add_subplot(rows,cols,p)\n",
    "    sns.distplot(df.Review_CC[df.Ratings==i], ax=axis, label=f\"For Rating: {i}\", color=colors[i-1])\n",
    "    axis.set_xlabel(f\"Review Character Count\")\n",
    "    axis.legend()\n",
    "    p += 1\n",
    "    \n",
    "plt.show()"
   ]
  },
  {
   "cell_type": "code",
   "execution_count": 64,
   "metadata": {},
   "outputs": [
    {
     "name": "stdout",
     "output_type": "stream",
     "text": [
      "5    26839\n",
      "4    13710\n",
      "1    10316\n",
      "3     9039\n",
      "2     7356\n",
      "Name: Ratings, dtype: int64\n"
     ]
    },
    {
     "data": {
      "image/png": "[encoded data removed]",
      "text/plain": [
       "<Figure size 1080x504 with 1 Axes>"
      ]
     },
     "metadata": {
      "needs_background": "light"
     },
     "output_type": "display_data"
    }
   ],
   "source": [
    "# Checking the count of target column values\n",
    "plt.figure(figsize=(15,7))\n",
    "sns.countplot(df['Ratings'])\n",
    "print(df.Ratings.value_counts())\n",
    "plt.show()"
   ]
  },
  {
   "cell_type": "code",
   "execution_count": 65,
   "metadata": {},
   "outputs": [
    {
     "data": {
      "text/html": [
       "<div>\n",
       "<style scoped>\n",
       "    .dataframe tbody tr th:only-of-type {\n",
       "        vertical-align: middle;\n",
       "    }\n",
       "\n",
       "    .dataframe tbody tr th {\n",
       "        vertical-align: top;\n",
       "    }\n",
       "\n",
       "    .dataframe thead th {\n",
       "        text-align: right;\n",
       "    }\n",
       "</style>\n",
       "<table border=\"1\" class=\"dataframe\">\n",
       "  <thead>\n",
       "    <tr style=\"text-align: right;\">\n",
       "      <th></th>\n",
       "      <th>Review_title</th>\n",
       "      <th>Review_text</th>\n",
       "      <th>Ratings</th>\n",
       "      <th>Review</th>\n",
       "      <th>Review_WC</th>\n",
       "      <th>Review_CC</th>\n",
       "    </tr>\n",
       "  </thead>\n",
       "  <tbody>\n",
       "    <tr>\n",
       "      <th>0</th>\n",
       "      <td>Azer</td>\n",
       "      <td>\\r\\n  &amp;nbsp;ony screen laging problem i am fac...</td>\n",
       "      <td>4</td>\n",
       "      <td>azer nbspony screen lag problem face phone</td>\n",
       "      <td>7</td>\n",
       "      <td>42</td>\n",
       "    </tr>\n",
       "    <tr>\n",
       "      <th>1</th>\n",
       "      <td>Best in the market!</td>\n",
       "      <td>I didn't think this mobile would be fast. But ...</td>\n",
       "      <td>5</td>\n",
       "      <td>best market think mobile would fast mobile fas...</td>\n",
       "      <td>30</td>\n",
       "      <td>170</td>\n",
       "    </tr>\n",
       "    <tr>\n",
       "      <th>2</th>\n",
       "      <td>Classy product</td>\n",
       "      <td>good prodect</td>\n",
       "      <td>5</td>\n",
       "      <td>classy product good prodect</td>\n",
       "      <td>4</td>\n",
       "      <td>27</td>\n",
       "    </tr>\n",
       "    <tr>\n",
       "      <th>3</th>\n",
       "      <td>Great Product to Grab this Diwali</td>\n",
       "      <td>\\r\\n  Nice tracker with almost accurate result...</td>\n",
       "      <td>5</td>\n",
       "      <td>great product grab diwali nice tracker almost ...</td>\n",
       "      <td>28</td>\n",
       "      <td>177</td>\n",
       "    </tr>\n",
       "    <tr>\n",
       "      <th>4</th>\n",
       "      <td>Studio monitor</td>\n",
       "      <td>\\r\\n  Mast hi monitor .. super qulati and havi...</td>\n",
       "      <td>5</td>\n",
       "      <td>studio monitor mast hi monitor super qulati ha...</td>\n",
       "      <td>9</td>\n",
       "      <td>53</td>\n",
       "    </tr>\n",
       "    <tr>\n",
       "      <th>...</th>\n",
       "      <td>...</td>\n",
       "      <td>...</td>\n",
       "      <td>...</td>\n",
       "      <td>...</td>\n",
       "      <td>...</td>\n",
       "      <td>...</td>\n",
       "    </tr>\n",
       "    <tr>\n",
       "      <th>67255</th>\n",
       "      <td>Charging</td>\n",
       "      <td>\\r\\n  Charging is very slow ...every 1% taking...</td>\n",
       "      <td>3</td>\n",
       "      <td>charge charge slow every  take  min charge ind...</td>\n",
       "      <td>19</td>\n",
       "      <td>103</td>\n",
       "    </tr>\n",
       "    <tr>\n",
       "      <th>67256</th>\n",
       "      <td>Beast in this Price Range..!!!</td>\n",
       "      <td>\\r\\n  First of all I don't want to waste the t...</td>\n",
       "      <td>4</td>\n",
       "      <td>beast price range first want waste time long r...</td>\n",
       "      <td>77</td>\n",
       "      <td>474</td>\n",
       "    </tr>\n",
       "    <tr>\n",
       "      <th>67257</th>\n",
       "      <td>Highly recommended</td>\n",
       "      <td>Good</td>\n",
       "      <td>5</td>\n",
       "      <td>highly recommend good</td>\n",
       "      <td>3</td>\n",
       "      <td>21</td>\n",
       "    </tr>\n",
       "    <tr>\n",
       "      <th>67258</th>\n",
       "      <td>Classy product</td>\n",
       "      <td>This phone is good for Normal use but there ar...</td>\n",
       "      <td>5</td>\n",
       "      <td>classy product phone good normal use many good...</td>\n",
       "      <td>27</td>\n",
       "      <td>152</td>\n",
       "    </tr>\n",
       "    <tr>\n",
       "      <th>67259</th>\n",
       "      <td>Starts hissing/distorting after a year's use.</td>\n",
       "      <td>\\r\\n  Initially they sounded okay (for the pri...</td>\n",
       "      <td>2</td>\n",
       "      <td>start hissingdistorting year use initially sou...</td>\n",
       "      <td>46</td>\n",
       "      <td>317</td>\n",
       "    </tr>\n",
       "  </tbody>\n",
       "</table>\n",
       "<p>67260 rows × 6 columns</p>\n",
       "</div>"
      ],
      "text/plain": [
       "                                        Review_title  \\\n",
       "0                                               Azer   \n",
       "1                                Best in the market!   \n",
       "2                                     Classy product   \n",
       "3                  Great Product to Grab this Diwali   \n",
       "4                                     Studio monitor   \n",
       "...                                              ...   \n",
       "67255                                       Charging   \n",
       "67256                 Beast in this Price Range..!!!   \n",
       "67257                             Highly recommended   \n",
       "67258                                 Classy product   \n",
       "67259  Starts hissing/distorting after a year's use.   \n",
       "\n",
       "                                             Review_text  Ratings  \\\n",
       "0      \\r\\n  &nbsp;ony screen laging problem i am fac...        4   \n",
       "1      I didn't think this mobile would be fast. But ...        5   \n",
       "2                                           good prodect        5   \n",
       "3      \\r\\n  Nice tracker with almost accurate result...        5   \n",
       "4      \\r\\n  Mast hi monitor .. super qulati and havi...        5   \n",
       "...                                                  ...      ...   \n",
       "67255  \\r\\n  Charging is very slow ...every 1% taking...        3   \n",
       "67256  \\r\\n  First of all I don't want to waste the t...        4   \n",
       "67257                                               Good        5   \n",
       "67258  This phone is good for Normal use but there ar...        5   \n",
       "67259  \\r\\n  Initially they sounded okay (for the pri...        2   \n",
       "\n",
       "                                                  Review  Review_WC  Review_CC  \n",
       "0             azer nbspony screen lag problem face phone          7         42  \n",
       "1      best market think mobile would fast mobile fas...         30        170  \n",
       "2                            classy product good prodect          4         27  \n",
       "3      great product grab diwali nice tracker almost ...         28        177  \n",
       "4      studio monitor mast hi monitor super qulati ha...          9         53  \n",
       "...                                                  ...        ...        ...  \n",
       "67255  charge charge slow every  take  min charge ind...         19        103  \n",
       "67256  beast price range first want waste time long r...         77        474  \n",
       "67257                              highly recommend good          3         21  \n",
       "67258  classy product phone good normal use many good...         27        152  \n",
       "67259  start hissingdistorting year use initially sou...         46        317  \n",
       "\n",
       "[67260 rows x 6 columns]"
      ]
     },
     "execution_count": 65,
     "metadata": {},
     "output_type": "execute_result"
    }
   ],
   "source": [
    "# shuffling the entire data set\n",
    "df = df.sample(frac=1).reset_index(drop=True)\n",
    "df\n"
   ]
  },
  {
   "cell_type": "code",
   "execution_count": 66,
   "metadata": {},
   "outputs": [
    {
     "data": {
      "text/html": [
       "<div>\n",
       "<style scoped>\n",
       "    .dataframe tbody tr th:only-of-type {\n",
       "        vertical-align: middle;\n",
       "    }\n",
       "\n",
       "    .dataframe tbody tr th {\n",
       "        vertical-align: top;\n",
       "    }\n",
       "\n",
       "    .dataframe thead th {\n",
       "        text-align: right;\n",
       "    }\n",
       "</style>\n",
       "<table border=\"1\" class=\"dataframe\">\n",
       "  <thead>\n",
       "    <tr style=\"text-align: right;\">\n",
       "      <th></th>\n",
       "      <th>Review_title</th>\n",
       "      <th>Review_text</th>\n",
       "      <th>Ratings</th>\n",
       "      <th>Review</th>\n",
       "      <th>Review_WC</th>\n",
       "      <th>Review_CC</th>\n",
       "    </tr>\n",
       "  </thead>\n",
       "  <tbody>\n",
       "    <tr>\n",
       "      <th>0</th>\n",
       "      <td>Actual issues</td>\n",
       "      <td>\\r\\n  The watch works well performance and bat...</td>\n",
       "      <td>3</td>\n",
       "      <td>actual issue watch work well performance batte...</td>\n",
       "      <td>46</td>\n",
       "      <td>307</td>\n",
       "    </tr>\n",
       "    <tr>\n",
       "      <th>1</th>\n",
       "      <td>Ok for kids studies and adultery peoples use.</td>\n",
       "      <td>\\r\\n  It's not suitable for current generation...</td>\n",
       "      <td>3</td>\n",
       "      <td>ok kid study adultery people use suitable curr...</td>\n",
       "      <td>16</td>\n",
       "      <td>112</td>\n",
       "    </tr>\n",
       "    <tr>\n",
       "      <th>2</th>\n",
       "      <td>Waste of money!</td>\n",
       "      <td>Nothing in this watch. Just waste money.</td>\n",
       "      <td>1</td>\n",
       "      <td>waste money nothing watch waste money</td>\n",
       "      <td>6</td>\n",
       "      <td>37</td>\n",
       "    </tr>\n",
       "    <tr>\n",
       "      <th>3</th>\n",
       "      <td>A good phone in low range</td>\n",
       "      <td>\\r\\n  Good phone in this price range a very lo...</td>\n",
       "      <td>3</td>\n",
       "      <td>good phone low range good phone price range lo...</td>\n",
       "      <td>16</td>\n",
       "      <td>93</td>\n",
       "    </tr>\n",
       "    <tr>\n",
       "      <th>4</th>\n",
       "      <td>Just okay</td>\n",
       "      <td>Really budget phone you all know\\r\\nPros: Nice...</td>\n",
       "      <td>3</td>\n",
       "      <td>okay really budget phone know pro nice big dis...</td>\n",
       "      <td>51</td>\n",
       "      <td>311</td>\n",
       "    </tr>\n",
       "    <tr>\n",
       "      <th>...</th>\n",
       "      <td>...</td>\n",
       "      <td>...</td>\n",
       "      <td>...</td>\n",
       "      <td>...</td>\n",
       "      <td>...</td>\n",
       "      <td>...</td>\n",
       "    </tr>\n",
       "    <tr>\n",
       "      <th>36775</th>\n",
       "      <td>Highly recommended</td>\n",
       "      <td>excellent</td>\n",
       "      <td>5</td>\n",
       "      <td>highly recommended excellent</td>\n",
       "      <td>3</td>\n",
       "      <td>28</td>\n",
       "    </tr>\n",
       "    <tr>\n",
       "      <th>36776</th>\n",
       "      <td>Samsung M21 the non-chinese contender under 14k</td>\n",
       "      <td>\\r\\n  Let me divide this review into 3 parts a...</td>\n",
       "      <td>4</td>\n",
       "      <td>samsung m nonchinese contender k let divide re...</td>\n",
       "      <td>125</td>\n",
       "      <td>720</td>\n",
       "    </tr>\n",
       "    <tr>\n",
       "      <th>36777</th>\n",
       "      <td>Excelent display ,</td>\n",
       "      <td>\\r\\n  best laptop, battery backup more than 10...</td>\n",
       "      <td>5</td>\n",
       "      <td>excelent display best laptop battery backup  h...</td>\n",
       "      <td>14</td>\n",
       "      <td>82</td>\n",
       "    </tr>\n",
       "    <tr>\n",
       "      <th>36778</th>\n",
       "      <td>Being faulty item I want to return the item an...</td>\n",
       "      <td>\\r\\n  It is a faulty item with not charging an...</td>\n",
       "      <td>1</td>\n",
       "      <td>faulty item want return item get back money fa...</td>\n",
       "      <td>19</td>\n",
       "      <td>108</td>\n",
       "    </tr>\n",
       "    <tr>\n",
       "      <th>36779</th>\n",
       "      <td>Good choice</td>\n",
       "      <td>Great product at this price. 😍</td>\n",
       "      <td>4</td>\n",
       "      <td>good choice great product price</td>\n",
       "      <td>5</td>\n",
       "      <td>31</td>\n",
       "    </tr>\n",
       "  </tbody>\n",
       "</table>\n",
       "<p>36780 rows × 6 columns</p>\n",
       "</div>"
      ],
      "text/plain": [
       "                                            Review_title  \\\n",
       "0                                          Actual issues   \n",
       "1          Ok for kids studies and adultery peoples use.   \n",
       "2                                        Waste of money!   \n",
       "3                              A good phone in low range   \n",
       "4                                              Just okay   \n",
       "...                                                  ...   \n",
       "36775                                 Highly recommended   \n",
       "36776    Samsung M21 the non-chinese contender under 14k   \n",
       "36777                                 Excelent display ,   \n",
       "36778  Being faulty item I want to return the item an...   \n",
       "36779                                        Good choice   \n",
       "\n",
       "                                             Review_text  Ratings  \\\n",
       "0      \\r\\n  The watch works well performance and bat...        3   \n",
       "1      \\r\\n  It's not suitable for current generation...        3   \n",
       "2               Nothing in this watch. Just waste money.        1   \n",
       "3      \\r\\n  Good phone in this price range a very lo...        3   \n",
       "4      Really budget phone you all know\\r\\nPros: Nice...        3   \n",
       "...                                                  ...      ...   \n",
       "36775                                          excellent        5   \n",
       "36776  \\r\\n  Let me divide this review into 3 parts a...        4   \n",
       "36777  \\r\\n  best laptop, battery backup more than 10...        5   \n",
       "36778  \\r\\n  It is a faulty item with not charging an...        1   \n",
       "36779                     Great product at this price. 😍        4   \n",
       "\n",
       "                                                  Review  Review_WC  Review_CC  \n",
       "0      actual issue watch work well performance batte...         46        307  \n",
       "1      ok kid study adultery people use suitable curr...         16        112  \n",
       "2                  waste money nothing watch waste money          6         37  \n",
       "3      good phone low range good phone price range lo...         16         93  \n",
       "4      okay really budget phone know pro nice big dis...         51        311  \n",
       "...                                                  ...        ...        ...  \n",
       "36775                       highly recommended excellent          3         28  \n",
       "36776  samsung m nonchinese contender k let divide re...        125        720  \n",
       "36777  excelent display best laptop battery backup  h...         14         82  \n",
       "36778  faulty item want return item get back money fa...         19        108  \n",
       "36779                    good choice great product price          5         31  \n",
       "\n",
       "[36780 rows x 6 columns]"
      ]
     },
     "execution_count": 66,
     "metadata": {},
     "output_type": "execute_result"
    }
   ],
   "source": [
    "# Select data from every Ratings category\n",
    "df1 = df[df['Ratings']==1][0:7356]\n",
    "df2 = df[df['Ratings']==2][0:7356]\n",
    "df3 = df[df['Ratings']==3][0:7356]\n",
    "df4 = df[df['Ratings']==4][0:7356]\n",
    "df5 = df[df['Ratings']==5][0:7356]\n",
    "\n",
    "# Combining all the dataframes into one and shuffling them again\n",
    "df = pd.concat([df1,df2,df3,df4,df5], ignore_index=True)\n",
    "df = df.sample(frac=1).reset_index(drop=True)\n",
    "df\n"
   ]
  },
  {
   "cell_type": "code",
   "execution_count": 67,
   "metadata": {},
   "outputs": [
    {
     "name": "stdout",
     "output_type": "stream",
     "text": [
      "5    7356\n",
      "4    7356\n",
      "3    7356\n",
      "2    7356\n",
      "1    7356\n",
      "Name: Ratings, dtype: int64\n"
     ]
    },
    {
     "data": {
      "image/png": "[encoded data removed]",
      "text/plain": [
       "<Figure size 1080x504 with 1 Axes>"
      ]
     },
     "metadata": {
      "needs_background": "light"
     },
     "output_type": "display_data"
    }
   ],
   "source": [
    "# lets Check the count of target column again to confirm the balance with a visual\n",
    "plt.figure(figsize=(15,7))\n",
    "sns.countplot(df['Ratings'])\n",
    "print(df.Ratings.value_counts())\n",
    "plt.show()"
   ]
  },
  {
   "cell_type": "code",
   "execution_count": 68,
   "metadata": {},
   "outputs": [
    {
     "data": {
      "image/png": "[encoded data removed]",
      "text/plain": [
       "<Figure size 1080x720 with 1 Axes>"
      ]
     },
     "metadata": {
      "needs_background": "light"
     },
     "output_type": "display_data"
    }
   ],
   "source": [
    "# Function to plot most frequent terms in our Review column\n",
    "def freq_words(x, terms=30):\n",
    "    all_words = ' '.join([text for text in x])\n",
    "    all_words = all_words.split()\n",
    "    fdist = FreqDist(all_words)\n",
    "    words_df = pd.DataFrame({'word':list(fdist.keys()),\n",
    "                             'count':list(fdist.values())})\n",
    "    # selecting top 30 most frequent words\n",
    "    dt = words_df.nlargest(columns='count', n=terms)\n",
    "    plt.figure(figsize=(15,10))\n",
    "    ax = sns.barplot(data=dt, x='count', y='word')\n",
    "    ax.set(ylabel = 'Word')\n",
    "    plt.show()\n",
    "    \n",
    "freq_words(df['Review'])  "
   ]
  },
  {
   "cell_type": "code",
   "execution_count": 69,
   "metadata": {},
   "outputs": [
    {
     "data": {
      "image/png": "[encoded data removed]",
      "text/plain": [
       "<Figure size 1080x720 with 1 Axes>"
      ]
     },
     "metadata": {
      "needs_background": "light"
     },
     "output_type": "display_data"
    }
   ],
   "source": [
    "# Function to plot least frequent terms in our Review column\n",
    "def rare_words(x, terms=30):\n",
    "    all_words = ' '.join([text for text in x])\n",
    "    all_words = all_words.split()\n",
    "    fdist = FreqDist(all_words)\n",
    "    words_df = pd.DataFrame({'word':list(fdist.keys()),\n",
    "                             'count':list(fdist.values())})\n",
    "    # selecting top 30 least freq rare words\n",
    "    dt = words_df.nsmallest(columns='count', n=terms)\n",
    "    plt.figure(figsize=(15,10))\n",
    "    ax = sns.barplot(data=dt, x='count', y='word')\n",
    "    ax.set(ylabel = 'Word')\n",
    "    plt.show()\n",
    "    \n",
    "rare_words(df['Review'])  "
   ]
  },
  {
   "cell_type": "markdown",
   "metadata": {},
   "source": [
    "# Model Building and Evaluation Metrics"
   ]
  },
  {
   "cell_type": "code",
   "execution_count": 71,
   "metadata": {},
   "outputs": [],
   "source": [
    "# Separating features and labels here\n",
    "x = df['Review']\n",
    "y = df['Ratings']"
   ]
  },
  {
   "cell_type": "code",
   "execution_count": 72,
   "metadata": {},
   "outputs": [],
   "source": [
    "# Using the n_gram tfidf vectorizer (Word vectors)\n",
    "word_vectorizer = TfidfVectorizer(sublinear_tf = True,\n",
    "                                  strip_accents = 'unicode',\n",
    "                                  analyzer = 'word',\n",
    "                                  token_pattern = r'\\w{1,}',\n",
    "                                  stop_words = 'english',\n",
    "                                  ngram_range = (1,3),\n",
    "                                  max_features = 100000)\n",
    "word_vectorizer.fit(x)\n",
    "train_word_features = word_vectorizer.transform(x)\n",
    "\n",
    "# Character vectors\n",
    "char_vectorizer = TfidfVectorizer(sublinear_tf = True,\n",
    "                                  strip_accents = 'unicode',\n",
    "                                  analyzer = 'char',\n",
    "                                  stop_words = 'english',\n",
    "                                  ngram_range = (2,6),\n",
    "                                  max_features = 50000)\n",
    "char_vectorizer.fit(x)\n",
    "train_char_features = char_vectorizer.transform(x)\n",
    "\n",
    "# I will now combine both word vectors and character vectors as input for our model\n",
    "train_features = hstack([train_char_features, train_word_features])"
   ]
  },
  {
   "cell_type": "markdown",
   "metadata": {},
   "source": [
    "# Splitting the data into train and test datasets"
   ]
  },
  {
   "cell_type": "code",
   "execution_count": 73,
   "metadata": {},
   "outputs": [
    {
     "name": "stdout",
     "output_type": "stream",
     "text": [
      "x_train (25746, 150000)\n",
      "x_test (11034, 150000)\n",
      "y_train (25746,)\n",
      "y_test (11034,)\n"
     ]
    }
   ],
   "source": [
    "state = 42\n",
    "x_train, x_test, y_train, y_test = train_test_split(train_features, y, test_size = 0.30, random_state = state)\n",
    "\n",
    "# Lets check the shapes of traning and test data\n",
    "print(\"x_train\", x_train.shape)\n",
    "print(\"x_test\", x_test.shape)\n",
    "print(\"y_train\", y_train.shape)\n",
    "print(\"y_test\", y_test.shape)"
   ]
  },
  {
   "cell_type": "code",
   "execution_count": 74,
   "metadata": {},
   "outputs": [],
   "source": [
    "# Defining the Classification Machine Learning Algorithms\n",
    "rf = RandomForestClassifier()\n",
    "lr = LogisticRegression(solver='lbfgs')\n",
    "svc = LinearSVC()\n",
    "bnb = BernoulliNB()\n",
    "mnb = MultinomialNB()\n",
    "sgd = SGDClassifier()\n",
    "lgb = LGBMClassifier()\n",
    "xgb = XGBClassifier(verbosity=0)\n",
    "\n",
    "# Creating a function to train and test the model with evaluation metrics\n",
    "def BuiltModel(model):\n",
    "    print('*'*30+model.__class__.__name__+'*'*30)\n",
    "    model.fit(x_train, y_train)\n",
    "    y_pred = model.predict(x_train)\n",
    "    pred = model.predict(x_test)\n",
    "    accuracy = accuracy_score(y_test, pred)*100\n",
    "    print(f\"ACCURACY SCORE PERCENTAGE:\", accuracy)\n",
    "    # Confusion matrix and Classification report\n",
    "    print(f\"CLASSIFICATION REPORT: \\n {classification_report(y_test, pred)}\")\n",
    "    print(f\"CONFUSION MATRIX: \\n {confusion_matrix(y_test, pred)}\\n\")\n",
    "    print(\"-\"*120)\n",
    "    print(\"\\n\")"
   ]
  },
  {
   "cell_type": "markdown",
   "metadata": {},
   "source": [
    "# Training and testing of all the classification algorithms"
   ]
  },
  {
   "cell_type": "code",
   "execution_count": 75,
   "metadata": {
    "scrolled": false
   },
   "outputs": [
    {
     "name": "stdout",
     "output_type": "stream",
     "text": [
      "******************************LogisticRegression******************************\n",
      "ACCURACY SCORE PERCENTAGE: 71.0168569874932\n",
      "CLASSIFICATION REPORT: \n",
      "               precision    recall  f1-score   support\n",
      "\n",
      "           1       0.74      0.77      0.75      2199\n",
      "           2       0.63      0.63      0.63      2202\n",
      "           3       0.63      0.64      0.63      2177\n",
      "           4       0.72      0.69      0.71      2257\n",
      "           5       0.84      0.82      0.83      2199\n",
      "\n",
      "    accuracy                           0.71     11034\n",
      "   macro avg       0.71      0.71      0.71     11034\n",
      "weighted avg       0.71      0.71      0.71     11034\n",
      "\n",
      "CONFUSION MATRIX: \n",
      " [[1690  332  139   33    5]\n",
      " [ 389 1396  307   84   26]\n",
      " [ 160  353 1386  223   55]\n",
      " [  43  105  296 1557  256]\n",
      " [  14   38   78  262 1807]]\n",
      "\n",
      "------------------------------------------------------------------------------------------------------------------------\n",
      "\n",
      "\n",
      "******************************LinearSVC******************************\n",
      "ACCURACY SCORE PERCENTAGE: 70.52746057640022\n",
      "CLASSIFICATION REPORT: \n",
      "               precision    recall  f1-score   support\n",
      "\n",
      "           1       0.73      0.76      0.75      2199\n",
      "           2       0.62      0.63      0.63      2202\n",
      "           3       0.63      0.63      0.63      2177\n",
      "           4       0.71      0.68      0.70      2257\n",
      "           5       0.82      0.83      0.82      2199\n",
      "\n",
      "    accuracy                           0.71     11034\n",
      "   macro avg       0.70      0.71      0.70     11034\n",
      "weighted avg       0.70      0.71      0.70     11034\n",
      "\n",
      "CONFUSION MATRIX: \n",
      " [[1678  328  142   39   12]\n",
      " [ 380 1383  311   95   33]\n",
      " [ 165  342 1363  236   71]\n",
      " [  45  127  266 1539  280]\n",
      " [  22   36   77  245 1819]]\n",
      "\n",
      "------------------------------------------------------------------------------------------------------------------------\n",
      "\n",
      "\n",
      "******************************BernoulliNB******************************\n",
      "ACCURACY SCORE PERCENTAGE: 51.23255392423418\n",
      "CLASSIFICATION REPORT: \n",
      "               precision    recall  f1-score   support\n",
      "\n",
      "           1       0.65      0.59      0.62      2199\n",
      "           2       0.53      0.44      0.48      2202\n",
      "           3       0.50      0.37      0.43      2177\n",
      "           4       0.56      0.41      0.48      2257\n",
      "           5       0.42      0.75      0.53      2199\n",
      "\n",
      "    accuracy                           0.51     11034\n",
      "   macro avg       0.53      0.51      0.51     11034\n",
      "weighted avg       0.53      0.51      0.51     11034\n",
      "\n",
      "CONFUSION MATRIX: \n",
      " [[1307  420  138   18  316]\n",
      " [ 407  960  326   75  434]\n",
      " [ 205  326  806  203  637]\n",
      " [  75   78  250  935  919]\n",
      " [  24   19   80  431 1645]]\n",
      "\n",
      "------------------------------------------------------------------------------------------------------------------------\n",
      "\n",
      "\n",
      "******************************MultinomialNB******************************\n",
      "ACCURACY SCORE PERCENTAGE: 63.22276599601232\n",
      "CLASSIFICATION REPORT: \n",
      "               precision    recall  f1-score   support\n",
      "\n",
      "           1       0.62      0.77      0.69      2199\n",
      "           2       0.60      0.44      0.50      2202\n",
      "           3       0.51      0.58      0.54      2177\n",
      "           4       0.63      0.64      0.64      2257\n",
      "           5       0.82      0.73      0.78      2199\n",
      "\n",
      "    accuracy                           0.63     11034\n",
      "   macro avg       0.64      0.63      0.63     11034\n",
      "weighted avg       0.64      0.63      0.63     11034\n",
      "\n",
      "CONFUSION MATRIX: \n",
      " [[1696  276  177   35   15]\n",
      " [ 616  958  465  133   30]\n",
      " [ 287  263 1255  296   76]\n",
      " [  95   73  412 1454  223]\n",
      " [  29   27  142  388 1613]]\n",
      "\n",
      "------------------------------------------------------------------------------------------------------------------------\n",
      "\n",
      "\n",
      "******************************SGDClassifier******************************\n",
      "ACCURACY SCORE PERCENTAGE: 70.13775602682617\n",
      "CLASSIFICATION REPORT: \n",
      "               precision    recall  f1-score   support\n",
      "\n",
      "           1       0.69      0.81      0.75      2199\n",
      "           2       0.64      0.58      0.61      2202\n",
      "           3       0.65      0.60      0.62      2177\n",
      "           4       0.71      0.68      0.70      2257\n",
      "           5       0.80      0.84      0.82      2199\n",
      "\n",
      "    accuracy                           0.70     11034\n",
      "   macro avg       0.70      0.70      0.70     11034\n",
      "weighted avg       0.70      0.70      0.70     11034\n",
      "\n",
      "CONFUSION MATRIX: \n",
      " [[1787  252  110   32   18]\n",
      " [ 514 1282  276   85   45]\n",
      " [ 210  344 1300  244   79]\n",
      " [  60  104  242 1531  320]\n",
      " [  22   25   62  251 1839]]\n",
      "\n",
      "------------------------------------------------------------------------------------------------------------------------\n",
      "\n",
      "\n",
      "******************************RandomForestClassifier******************************\n",
      "ACCURACY SCORE PERCENTAGE: 71.3068696755483\n",
      "CLASSIFICATION REPORT: \n",
      "               precision    recall  f1-score   support\n",
      "\n",
      "           1       0.71      0.80      0.75      2199\n",
      "           2       0.65      0.63      0.64      2202\n",
      "           3       0.66      0.62      0.64      2177\n",
      "           4       0.73      0.70      0.71      2257\n",
      "           5       0.81      0.81      0.81      2199\n",
      "\n",
      "    accuracy                           0.71     11034\n",
      "   macro avg       0.71      0.71      0.71     11034\n",
      "weighted avg       0.71      0.71      0.71     11034\n",
      "\n",
      "CONFUSION MATRIX: \n",
      " [[1757  291  105   33   13]\n",
      " [ 437 1385  260   87   33]\n",
      " [ 188  325 1352  211  101]\n",
      " [  53   85  274 1583  262]\n",
      " [  28   44   72  264 1791]]\n",
      "\n",
      "------------------------------------------------------------------------------------------------------------------------\n",
      "\n",
      "\n",
      "******************************XGBClassifier******************************\n",
      "ACCURACY SCORE PERCENTAGE: 70.273699474352\n",
      "CLASSIFICATION REPORT: \n",
      "               precision    recall  f1-score   support\n",
      "\n",
      "           1       0.74      0.75      0.75      2199\n",
      "           2       0.59      0.64      0.62      2202\n",
      "           3       0.64      0.60      0.62      2177\n",
      "           4       0.71      0.70      0.70      2257\n",
      "           5       0.84      0.82      0.83      2199\n",
      "\n",
      "    accuracy                           0.70     11034\n",
      "   macro avg       0.70      0.70      0.70     11034\n",
      "weighted avg       0.70      0.70      0.70     11034\n",
      "\n",
      "CONFUSION MATRIX: \n",
      " [[1660  379  108   40   12]\n",
      " [ 382 1418  279  101   22]\n",
      " [ 153  408 1304  247   65]\n",
      " [  41  133  267 1574  242]\n",
      " [  13   49   73  266 1798]]\n",
      "\n",
      "------------------------------------------------------------------------------------------------------------------------\n",
      "\n",
      "\n",
      "******************************LGBMClassifier******************************\n",
      "ACCURACY SCORE PERCENTAGE: 70.53652347290193\n",
      "CLASSIFICATION REPORT: \n",
      "               precision    recall  f1-score   support\n",
      "\n",
      "           1       0.73      0.76      0.74      2199\n",
      "           2       0.61      0.61      0.61      2202\n",
      "           3       0.64      0.61      0.63      2177\n",
      "           4       0.71      0.71      0.71      2257\n",
      "           5       0.84      0.83      0.83      2199\n",
      "\n",
      "    accuracy                           0.71     11034\n",
      "   macro avg       0.70      0.71      0.70     11034\n",
      "weighted avg       0.70      0.71      0.70     11034\n",
      "\n",
      "CONFUSION MATRIX: \n",
      " [[1675  354  125   34   11]\n",
      " [ 422 1351  292  110   27]\n",
      " [ 154  363 1328  269   63]\n",
      " [  39  101  254 1605  258]\n",
      " [  11   38   69  257 1824]]\n",
      "\n",
      "------------------------------------------------------------------------------------------------------------------------\n",
      "\n",
      "\n"
     ]
    }
   ],
   "source": [
    "for model in [lr,svc,bnb,mnb,sgd,rf,xgb,lgb]:\n",
    "    BuiltModel(model)"
   ]
  },
  {
   "cell_type": "markdown",
   "metadata": {},
   "source": [
    "# Cross validation score for best score models"
   ]
  },
  {
   "cell_type": "code",
   "execution_count": 76,
   "metadata": {},
   "outputs": [
    {
     "name": "stdout",
     "output_type": "stream",
     "text": [
      "******************************LogisticRegression******************************\n",
      "Cross validation score: 69.82055464926592\n",
      "\n",
      "\n",
      "******************************LinearSVC******************************\n",
      "Cross validation score: 69.68461120174008\n",
      "\n",
      "\n",
      "******************************SGDClassifier******************************\n",
      "Cross validation score: 69.28765633496465\n",
      "\n",
      "\n",
      "******************************RandomForestClassifier******************************\n",
      "Cross validation score: 70.02446982055464\n",
      "\n",
      "\n",
      "******************************LGBMClassifier******************************\n",
      "Cross validation score: 69.43719412724306\n",
      "\n",
      "\n"
     ]
    }
   ],
   "source": [
    "def cross_val(model):\n",
    "    print('*'*30+model.__class__.__name__+'*'*30)\n",
    "    scores = cross_val_score(model,train_features,y, cv = 3).mean()*100\n",
    "    print(\"Cross validation score:\", scores)\n",
    "    print(\"\\n\")\n",
    "    \n",
    "for model in [lr,svc,sgd,rf,lgb]:\n",
    "    cross_val(model)   "
   ]
  },
  {
   "cell_type": "markdown",
   "metadata": {},
   "source": [
    "# HyperParameter Tuning"
   ]
  },
  {
   "cell_type": "code",
   "execution_count": null,
   "metadata": {},
   "outputs": [],
   "source": [
    "# Lets select the different parameters for tuning our best model (RandomForestClassifier)\n",
    "grid_params = {'n_estimators':[100,200],\n",
    "               'criterion':['gini','entropy'],\n",
    "               'max_depth': [500,800],\n",
    "               'bootstrap':[True,False]}\n",
    "\n",
    "#Train the model with given parameters using GridSearchCV\n",
    "GSCV =  GridSearchCV(rf, grid_params, cv=3, verbose=3)\n",
    "GSCV.fit(x_train, y_train)"
   ]
  },
  {
   "cell_type": "code",
   "execution_count": null,
   "metadata": {},
   "outputs": [],
   "source": [
    "GSCV.best_params_"
   ]
  },
  {
   "cell_type": "code",
   "execution_count": null,
   "metadata": {},
   "outputs": [],
   "source": [
    "# Final Model with the best chosen parameters list\n",
    "best_model = RandomForestClassifier(bootstrap=False, criterion=\"gini\", max_depth=800, n_estimators=200)\n",
    "best_model.fit(x_train,y_train) # fitting data to the best model\n",
    "pred = best_model.predict(x_test)\n",
    "accuracy = accuracy_score(y_test, pred)*100\n",
    "# Printing the accuracy score\n",
    "print(\"ACCURACY SCORE:\", accuracy)\n",
    "# Printing the classification report\n",
    "print(f\"\\nCLASSIFICATION REPORT: \\n {classification_report(y_test, pred)}\")\n",
    "# Printing the Confusion matrix\n",
    "print(f\"\\nCONFUSION MATRIX: \\n {confusion_matrix(y_test, pred)}\")"
   ]
  },
  {
   "cell_type": "code",
   "execution_count": null,
   "metadata": {},
   "outputs": [],
   "source": [
    "Saving the best model"
   ]
  },
  {
   "cell_type": "code",
   "execution_count": null,
   "metadata": {},
   "outputs": [],
   "source": [
    "joblib.dump(best_model, \"Rating_Prediction_Saved_Model.pkl\")"
   ]
  }
 ],
 "metadata": {
  "kernelspec": {
   "display_name": "Python 3",
   "language": "python",
   "name": "python3"
  },
  "language_info": {
   "codemirror_mode": {
    "name": "ipython",
    "version": 3
   },
   "file_extension": ".py",
   "mimetype": "text/x-python",
   "name": "python",
   "nbconvert_exporter": "python",
   "pygments_lexer": "ipython3",
   "version": "3.8.5"
  }
 },
 "nbformat": 4,
 "nbformat_minor": 4
}
